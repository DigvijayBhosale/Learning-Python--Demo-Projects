{
 "cells": [
  {
   "cell_type": "code",
   "execution_count": 73,
   "metadata": {},
   "outputs": [
    {
     "name": "stdout",
     "output_type": "stream",
     "text": [
      "\n",
      "---------Jan----------For Jan our revenue is 45000000 and expences are 30000020 \n",
      "Profit After Paying tax for Jan is : 10500 k\n",
      "Profit Margin for Jan is : 23 %\n",
      "----------Jan-------------\n",
      "\n",
      "---------Feb----------For Feb our revenue is 10000000 and expences are 3003200 \n",
      "Profit After Paying tax for Feb is : 4898 k\n",
      "Profit Margin for Feb is : 49 %\n",
      "----------Feb-------------\n",
      "\n",
      "---------Mar----------For Mar our revenue is 100000000 and expences are 132000 \n",
      "Profit After Paying tax for Mar is : 69908 k\n",
      "Profit Margin for Mar is : 70 %\n",
      "----------Mar-------------\n",
      "\n",
      "---------Apr----------For Apr our revenue is 120550000 and expences are 33003200 \n",
      "Profit After Paying tax for Apr is : 61283 k\n",
      "Profit Margin for Apr is : 51 %\n",
      "----------Apr-------------\n",
      "\n",
      "---------June----------For June our revenue is 19000050 and expences are 2303000 \n",
      "Profit After Paying tax for June is : 11688 k\n",
      "Profit Margin for June is : 62 %\n",
      "----------June-------------\n",
      "\n",
      "---------July----------For July our revenue is 32500000 and expences are 4500030 \n",
      "Profit After Paying tax for July is : 19600 k\n",
      "Profit Margin for July is : 60 %\n",
      "----------July-------------\n",
      "\n",
      "---------Aug----------For Aug our revenue is 30005100 and expences are 3103000 \n",
      "Profit After Paying tax for Aug is : 18831 k\n",
      "Profit Margin for Aug is : 63 %\n",
      "----------Aug-------------\n",
      "\n",
      "---------Sept----------For Sept our revenue is 95000990 and expences are 3003080 \n",
      "Profit After Paying tax for Sept is : 64399 k\n",
      "Profit Margin for Sept is : 68 %\n",
      "----------Sept-------------\n",
      "\n",
      "---------Oct----------For Oct our revenue is 19000100 and expences are 2583080 \n",
      "Profit After Paying tax for Oct is : 11492 k\n",
      "Profit Margin for Oct is : 60 %\n",
      "----------Oct-------------\n",
      "\n",
      "---------Nov----------For Nov our revenue is 160055000 and expences are 3030000 \n",
      "Profit After Paying tax for Nov is : 109918 k\n",
      "Profit Margin for Nov is : 69 %\n",
      "----------Nov-------------\n",
      "\n",
      "---------Dec----------For Dec our revenue is 50055000 and expences are 1000230 \n",
      "Profit After Paying tax for Dec is : 34338 k\n",
      "Profit Margin for Dec is : 69 %\n",
      "----------Dec-------------\n",
      "\n",
      "----------- Month of Year -----------\n",
      "\n",
      "Worst Month : Feb with profit 4898 k\n",
      "Best Month : Nov with profit 109918 k\n",
      "\n",
      "----------- Status of Month -----------\n",
      "\n",
      "Bad Month : Jan with profit 10500 k\n",
      "Bad Month : Feb with profit 4898 k\n",
      "Good Month : Mar with profit 69908 k\n",
      "Good Month : Apr with profit 61283 k\n",
      "Bad Month : June with profit 11688 k\n",
      "Bad Month : July with profit 19600 k\n",
      "Bad Month : Aug with profit 18831 k\n",
      "Good Month : Sept with profit 64399 k\n",
      "Bad Month : Oct with profit 11492 k\n",
      "Good Month : Nov with profit 109918 k\n",
      "Bad Month : Dec with profit 34338 k\n"
     ]
    }
   ],
   "source": [
    "import numpy as np\n",
    "\n",
    "class calculation:\n",
    "    def __init__(self,month_revenure,month_expence):\n",
    "        self.month_revenure=month_revenure\n",
    "        self.month_expence=month_expence\n",
    "    def profit_each_mon(self):\n",
    "        return  (self.month_revenure-self.month_expence)\n",
    "    def profit_after_tax_each_mon(self):\n",
    "        a=self.profit_each_mon()\n",
    "        b=(self.month_revenure-self.month_expence)*0.30\n",
    "        return a-b\n",
    "    def profit_margin_each_mon(self):\n",
    "        r=(self.profit_after_tax_each_mon()/self.month_revenure)*100\n",
    "        return f'{r:1.0f} %'\n",
    "\n",
    "\n",
    "revenue=[('Jan',45000000,30000020),('Feb',10000000,3003200),('Mar',100000000,132000),('Apr',120550000,33003200),('June',19000050,2303000),('July',32500000,4500030),('Aug',30005100,3103000),('Sept',95000990,3003080),('Oct',19000100,2583080),('Nov',160055000,3030000),('Dec',50055000,1000230)]\n",
    "mon_profit,profit_aftr_tax,profit_mrgn=[],[],[]\n",
    "for x in revenue:\n",
    "    month= x[0]\n",
    "    revenue=x[1]\n",
    "    expence=x[2]\n",
    "    print (f'\\n---------{month}----------For {month} our revenue is {revenue} and expences are {expence} ')\n",
    "    a=calculation(revenue,expence)\n",
    "    print(f'Profit After Paying tax for {month} is : {round(a.profit_after_tax_each_mon()/1000)} k')\n",
    "    print(f'Profit Margin for {month} is : {a.profit_margin_each_mon()}\\n----------{month}-------------')\n",
    "    mon_profit.append((month,a.profit_each_mon()))\n",
    "    profit_aftr_tax.append((month,a.profit_after_tax_each_mon()))\n",
    "    profit_mrgn.append((month,a.profit_margin_each_mon()))\n",
    "\n",
    "mx_rv=max([lis[1] for lis in profit_aftr_tax])\n",
    "min_rv=min([lis[1] for lis in profit_aftr_tax])\n",
    "\n",
    "print('\\n----------- Month of Year -----------\\n')\n",
    "for i in profit_aftr_tax:\n",
    "    if i[1]==mx_rv:\n",
    "        print(f'Best Month : {i[0]} with profit {round(i[1]/1000)} k')\n",
    "    if i[1]==min_rv:\n",
    "        print(f'Worst Month : {i[0]} with profit {round(i[1]/1000)} k')\n",
    "\n",
    "a=np.array([lis[1] for lis in profit_aftr_tax])\n",
    "mean=a.mean()\n",
    "print('\\n----------- Status of Month -----------\\n')\n",
    "for i in profit_aftr_tax:\n",
    "    if i[1]>mean:\n",
    "        print(f'Good Month : {i[0]} with profit {round(i[1]/1000)} k')\n",
    "    else:\n",
    "        print(f'Bad Month : {i[0]} with profit {round(i[1]/1000)} k')\n",
    "    \n",
    "\n",
    "\n",
    "    \n",
    "        \n",
    "    \n",
    "    \n"
   ]
  },
  {
   "cell_type": "code",
   "execution_count": null,
   "metadata": {},
   "outputs": [],
   "source": []
  },
  {
   "cell_type": "code",
   "execution_count": null,
   "metadata": {},
   "outputs": [],
   "source": []
  },
  {
   "cell_type": "code",
   "execution_count": null,
   "metadata": {},
   "outputs": [],
   "source": []
  },
  {
   "cell_type": "code",
   "execution_count": null,
   "metadata": {},
   "outputs": [],
   "source": []
  },
  {
   "cell_type": "code",
   "execution_count": null,
   "metadata": {},
   "outputs": [],
   "source": []
  },
  {
   "cell_type": "code",
   "execution_count": null,
   "metadata": {},
   "outputs": [],
   "source": []
  },
  {
   "cell_type": "code",
   "execution_count": null,
   "metadata": {},
   "outputs": [],
   "source": []
  },
  {
   "cell_type": "code",
   "execution_count": null,
   "metadata": {},
   "outputs": [],
   "source": []
  },
  {
   "cell_type": "code",
   "execution_count": null,
   "metadata": {},
   "outputs": [],
   "source": []
  },
  {
   "cell_type": "code",
   "execution_count": null,
   "metadata": {},
   "outputs": [],
   "source": []
  },
  {
   "cell_type": "code",
   "execution_count": null,
   "metadata": {},
   "outputs": [],
   "source": []
  },
  {
   "cell_type": "code",
   "execution_count": null,
   "metadata": {},
   "outputs": [],
   "source": []
  },
  {
   "cell_type": "code",
   "execution_count": null,
   "metadata": {},
   "outputs": [],
   "source": []
  },
  {
   "cell_type": "code",
   "execution_count": null,
   "metadata": {},
   "outputs": [],
   "source": []
  },
  {
   "cell_type": "code",
   "execution_count": null,
   "metadata": {},
   "outputs": [],
   "source": []
  },
  {
   "cell_type": "code",
   "execution_count": null,
   "metadata": {},
   "outputs": [],
   "source": []
  },
  {
   "cell_type": "code",
   "execution_count": null,
   "metadata": {},
   "outputs": [],
   "source": []
  },
  {
   "cell_type": "code",
   "execution_count": null,
   "metadata": {},
   "outputs": [],
   "source": []
  },
  {
   "cell_type": "code",
   "execution_count": null,
   "metadata": {},
   "outputs": [],
   "source": []
  },
  {
   "cell_type": "code",
   "execution_count": null,
   "metadata": {},
   "outputs": [],
   "source": []
  },
  {
   "cell_type": "code",
   "execution_count": null,
   "metadata": {},
   "outputs": [],
   "source": []
  },
  {
   "cell_type": "code",
   "execution_count": null,
   "metadata": {},
   "outputs": [],
   "source": []
  },
  {
   "cell_type": "code",
   "execution_count": null,
   "metadata": {},
   "outputs": [],
   "source": []
  },
  {
   "cell_type": "code",
   "execution_count": null,
   "metadata": {},
   "outputs": [],
   "source": []
  },
  {
   "cell_type": "code",
   "execution_count": null,
   "metadata": {},
   "outputs": [],
   "source": []
  },
  {
   "cell_type": "code",
   "execution_count": null,
   "metadata": {},
   "outputs": [],
   "source": []
  },
  {
   "cell_type": "code",
   "execution_count": null,
   "metadata": {},
   "outputs": [],
   "source": []
  },
  {
   "cell_type": "code",
   "execution_count": null,
   "metadata": {},
   "outputs": [],
   "source": []
  },
  {
   "cell_type": "code",
   "execution_count": null,
   "metadata": {},
   "outputs": [],
   "source": []
  },
  {
   "cell_type": "code",
   "execution_count": null,
   "metadata": {},
   "outputs": [],
   "source": []
  },
  {
   "cell_type": "code",
   "execution_count": null,
   "metadata": {},
   "outputs": [],
   "source": []
  },
  {
   "cell_type": "code",
   "execution_count": null,
   "metadata": {},
   "outputs": [],
   "source": []
  },
  {
   "cell_type": "code",
   "execution_count": null,
   "metadata": {},
   "outputs": [],
   "source": []
  },
  {
   "cell_type": "code",
   "execution_count": null,
   "metadata": {},
   "outputs": [],
   "source": []
  },
  {
   "cell_type": "code",
   "execution_count": null,
   "metadata": {},
   "outputs": [],
   "source": []
  },
  {
   "cell_type": "code",
   "execution_count": null,
   "metadata": {},
   "outputs": [],
   "source": []
  },
  {
   "cell_type": "code",
   "execution_count": null,
   "metadata": {},
   "outputs": [],
   "source": []
  },
  {
   "cell_type": "code",
   "execution_count": null,
   "metadata": {},
   "outputs": [],
   "source": []
  },
  {
   "cell_type": "code",
   "execution_count": null,
   "metadata": {},
   "outputs": [],
   "source": []
  },
  {
   "cell_type": "code",
   "execution_count": null,
   "metadata": {},
   "outputs": [],
   "source": []
  },
  {
   "cell_type": "code",
   "execution_count": null,
   "metadata": {},
   "outputs": [],
   "source": []
  },
  {
   "cell_type": "code",
   "execution_count": null,
   "metadata": {},
   "outputs": [],
   "source": []
  },
  {
   "cell_type": "code",
   "execution_count": null,
   "metadata": {},
   "outputs": [],
   "source": []
  },
  {
   "cell_type": "code",
   "execution_count": null,
   "metadata": {},
   "outputs": [],
   "source": []
  },
  {
   "cell_type": "code",
   "execution_count": null,
   "metadata": {},
   "outputs": [],
   "source": []
  },
  {
   "cell_type": "code",
   "execution_count": null,
   "metadata": {},
   "outputs": [],
   "source": []
  },
  {
   "cell_type": "code",
   "execution_count": null,
   "metadata": {},
   "outputs": [],
   "source": []
  },
  {
   "cell_type": "code",
   "execution_count": null,
   "metadata": {},
   "outputs": [],
   "source": []
  },
  {
   "cell_type": "code",
   "execution_count": null,
   "metadata": {},
   "outputs": [],
   "source": []
  },
  {
   "cell_type": "code",
   "execution_count": null,
   "metadata": {},
   "outputs": [],
   "source": []
  },
  {
   "cell_type": "code",
   "execution_count": null,
   "metadata": {},
   "outputs": [],
   "source": []
  },
  {
   "cell_type": "code",
   "execution_count": null,
   "metadata": {},
   "outputs": [],
   "source": []
  },
  {
   "cell_type": "code",
   "execution_count": null,
   "metadata": {},
   "outputs": [],
   "source": []
  },
  {
   "cell_type": "code",
   "execution_count": null,
   "metadata": {},
   "outputs": [],
   "source": []
  },
  {
   "cell_type": "code",
   "execution_count": null,
   "metadata": {},
   "outputs": [],
   "source": []
  },
  {
   "cell_type": "code",
   "execution_count": null,
   "metadata": {},
   "outputs": [],
   "source": []
  },
  {
   "cell_type": "code",
   "execution_count": null,
   "metadata": {},
   "outputs": [],
   "source": []
  },
  {
   "cell_type": "code",
   "execution_count": null,
   "metadata": {},
   "outputs": [],
   "source": []
  },
  {
   "cell_type": "code",
   "execution_count": null,
   "metadata": {},
   "outputs": [],
   "source": []
  },
  {
   "cell_type": "code",
   "execution_count": null,
   "metadata": {},
   "outputs": [],
   "source": []
  },
  {
   "cell_type": "code",
   "execution_count": null,
   "metadata": {},
   "outputs": [],
   "source": []
  },
  {
   "cell_type": "code",
   "execution_count": null,
   "metadata": {},
   "outputs": [],
   "source": []
  },
  {
   "cell_type": "code",
   "execution_count": null,
   "metadata": {},
   "outputs": [],
   "source": []
  },
  {
   "cell_type": "code",
   "execution_count": null,
   "metadata": {},
   "outputs": [],
   "source": []
  },
  {
   "cell_type": "code",
   "execution_count": null,
   "metadata": {},
   "outputs": [],
   "source": []
  },
  {
   "cell_type": "code",
   "execution_count": null,
   "metadata": {},
   "outputs": [],
   "source": []
  },
  {
   "cell_type": "code",
   "execution_count": null,
   "metadata": {},
   "outputs": [],
   "source": []
  },
  {
   "cell_type": "code",
   "execution_count": null,
   "metadata": {},
   "outputs": [],
   "source": []
  },
  {
   "cell_type": "code",
   "execution_count": null,
   "metadata": {},
   "outputs": [],
   "source": []
  },
  {
   "cell_type": "code",
   "execution_count": null,
   "metadata": {},
   "outputs": [],
   "source": []
  },
  {
   "cell_type": "code",
   "execution_count": null,
   "metadata": {},
   "outputs": [],
   "source": []
  },
  {
   "cell_type": "code",
   "execution_count": null,
   "metadata": {},
   "outputs": [],
   "source": []
  },
  {
   "cell_type": "code",
   "execution_count": null,
   "metadata": {},
   "outputs": [],
   "source": []
  },
  {
   "cell_type": "code",
   "execution_count": null,
   "metadata": {},
   "outputs": [],
   "source": []
  }
 ],
 "metadata": {
  "kernelspec": {
   "display_name": "Python 3",
   "language": "python",
   "name": "python3"
  },
  "language_info": {
   "codemirror_mode": {
    "name": "ipython",
    "version": 3
   },
   "file_extension": ".py",
   "mimetype": "text/x-python",
   "name": "python",
   "nbconvert_exporter": "python",
   "pygments_lexer": "ipython3",
   "version": "3.7.0"
  }
 },
 "nbformat": 4,
 "nbformat_minor": 2
}
